{
 "cells": [
  {
   "cell_type": "code",
   "execution_count": 2,
   "metadata": {
    "id": "IWxooRc8OUYK"
   },
   "outputs": [],
   "source": [
    "import numpy as np\n",
    "import pandas as pd\n",
    "import pickle\n",
    "import time\n",
    "import requests\n",
    "\n",
    "from os import listdir\n",
    "from os.path import isfile, join\n",
    "from datetime import datetime"
   ]
  },
  {
   "cell_type": "code",
   "execution_count": 3,
   "metadata": {
    "id": "hIyYveFpPeV4"
   },
   "outputs": [],
   "source": [
    "OUTPUT_PATH = 'output'\n",
    "TOKEN_POOL = ['AAAAAAAAAAAAAAAAAAAAADrgBQEAAAAA5CoiD%2F1y7eYo6keNRgsk9bvC3G0%3DsmVZEpdiiRqA1UZNOPUV1UFJut7Xxp1AkifiSi9CpNIUDbjNcq',\n",
    "              'AAAAAAAAAAAAAAAAAAAAAHrHUQEAAAAAEuCpSGtduf0OzCGziFepoTneKfs%3DFSjYWNvOhr5R5Rakgky4IVQt0g011PILwSqJtpK5ZvRcJlkJqu',\n",
    "              'AAAAAAAAAAAAAAAAAAAAANOPVgEAAAAAcmgH4HRq%2FyRg5485gFbcUqTso0Y%3DB2LKEzoL9HphAFn6jqwVRNIecLClzuPed4yYlcHBYETq8QqxJv']"
   ]
  },
  {
   "cell_type": "code",
   "execution_count": 4,
   "metadata": {
    "id": "u4MMKKCkRafo"
   },
   "outputs": [],
   "source": [
    "def get_last_checkpoint(prefix='data'):\n",
    "  files = [f for f in listdir(OUTPUT_PATH) if isfile(join(OUTPUT_PATH, f)) and f.startswith(f'{prefix}_') and f.endswith('.pickle')]\n",
    "  \n",
    "  if not files:\n",
    "    return None\n",
    "  \n",
    "  files.sort(reverse=True)\n",
    "  path = join(OUTPUT_PATH, files[0])\n",
    "  print(f'loading {path} ...')\n",
    "  # read pickle file\n",
    "  with open(path, 'rb') as f:\n",
    "    df = pickle.load(f)\n",
    "  \n",
    "  return df\n",
    "\n",
    "def save_checkpoint(df, prefix='data'):\n",
    "  path = join(OUTPUT_PATH, f'{prefix}_{ datetime.now().strftime(\"%m%d_%H%M%S\") }.pickle')\n",
    "  # save dataframe to pickle\n",
    "  with open(path, 'wb') as f:\n",
    "    pickle.dump(df, f)\n",
    "    print('checkpoint saved on', path)\n",
    "\n",
    "def filter_dataframe(df):\n",
    "  path = join(OUTPUT_PATH, 'id_list.txt')\n",
    "  ids = []\n",
    "  with open(path) as f:\n",
    "    for l in f:\n",
    "      ids.append(l.strip())\n",
    "\n",
    "  return df.drop(index=ids, errors = 'ignore')\n",
    "\n",
    "\n",
    "def translate(data):\n",
    "    data['followers'] = data['public_metrics']['followers_count']\n",
    "    data['following'] = data['public_metrics']['following_count']\n",
    "    data['following_ids'] = None\n",
    "    data['log_ratio'] = None\n",
    "    data.pop('public_metrics')\n",
    "    return data\n",
    "\n",
    "def next_level(df, mode='followers', last_level=False, max_pagination=1000):\n",
    "    df = df.copy()\n",
    "    \n",
    "    i=0\n",
    "    for idx in df[df.following_ids.isnull()].index:\n",
    "\n",
    "        if mode == 'following':\n",
    "          res = twitter.get_user_following(idx, max_pagination=max_pagination)\n",
    "        else:\n",
    "          res = twitter.get_user_followers(idx, max_pagination=max_pagination)\n",
    "\n",
    "        data = []\n",
    "        ids = []\n",
    "        for r in res:\n",
    "            data.append( translate(r) )\n",
    "            ids.append( str(r['id']) )\n",
    "        \n",
    "        df.loc[idx, 'following_ids'] = ','.join(ids)\n",
    "        \n",
    "        if not last_level and data:\n",
    "            new_df = pd.DataFrame.from_dict(data).set_index('id')\n",
    "            new_ids = set(new_df.index) - set(df.index)\n",
    "            df = df.append(new_df.loc[new_ids])\n",
    "        \n",
    "        if i % 25 == 0:\n",
    "            save_checkpoint(df)\n",
    "        \n",
    "        i += 1\n",
    "    \n",
    "    return df"
   ]
  },
  {
   "cell_type": "code",
   "execution_count": 5,
   "metadata": {
    "id": "9SEVHmxaX5YE"
   },
   "outputs": [],
   "source": [
    "class TwitterAPI:\n",
    "\n",
    "    def __init__(self, BEARER_TOKEN=None, POOL=None):\n",
    "        self.PATH = 'https://api.twitter.com/2'\n",
    "        self.BEARER_TOKEN = POOL[0] if POOL else BEARER_TOKEN\n",
    "        self.POOL_IDX = 0\n",
    "        self.REQUEST_COUNT = 0 # Contador de requests\n",
    "        self.REQUEST_MAX = 15 # Maximo 15 requests\n",
    "        self.POOL = POOL if POOL else [BEARER_TOKEN]\n",
    "        self.headers =  {\"Authorization\": f\"Bearer {self.BEARER_TOKEN}\"}\n",
    "\n",
    "    def update_bearer_token(self):\n",
    "        self.POOL_IDX = (self.POOL_IDX + 1) % len(self.POOL)\n",
    "        self.BEARER_TOKEN = self.POOL[self.POOL_IDX]\n",
    "        self.headers =  {\"Authorization\": f\"Bearer {self.BEARER_TOKEN}\"}\n",
    "        print(f'Changing token to {self.BEARER_TOKEN}...')\n",
    "\n",
    "\n",
    "    def get_user(self, user_id):\n",
    "        params = { 'user.fields':'public_metrics,profile_image_url' }\n",
    "        res = requests.get(f'{self.PATH}/users/{user_id}', params=params, headers=self.headers)\n",
    "        return res.json()\n",
    "\n",
    "    def get_user_followers(self, user_id, max_results=1000, max_pagination=1000):\n",
    "        params = { 'max_results':max_results, 'user.fields':'public_metrics,profile_image_url' }\n",
    "        data = []\n",
    "        next_token = True\n",
    "\n",
    "        i = 0\n",
    "        while next_token and i < max_pagination:\n",
    "            try:\n",
    "                res = requests.get(f'{self.PATH}/users/{user_id}/followers', params=params, headers=self.headers)\n",
    "                \n",
    "                self.REQUEST_COUNT = (self.REQUEST_COUNT + 1) % self.REQUEST_MAX\n",
    "                if self.REQUEST_COUNT == 0:\n",
    "                  self.update_bearer_token()\n",
    "\n",
    "                if res.status_code != 200:\n",
    "                    print('Taking a nap...')\n",
    "                    time.sleep( 15*60  + 10) # Sleep 15 mins and 10 seconds\n",
    "                    self.REQUEST_COUNT = 0\n",
    "                    print('Waking up again!')\n",
    "\n",
    "                elif res.json().get('errors'):\n",
    "                    print('There was an error')\n",
    "                    print(res.json()['errors'])\n",
    "                    next_token = False\n",
    "\n",
    "                else:\n",
    "                    data += res.json().get('data', [])\n",
    "                    next_token = res.json().get('meta', {}).get('next_token')\n",
    "                    params['pagination_token'] = next_token\n",
    "                    i += 1\n",
    "            except Exception as e:\n",
    "                print('There was an error! Taking a nap...')\n",
    "                print(e)\n",
    "                time.sleep(60) # Sleep 1 min\n",
    "                print('Waking up again!')\n",
    "        return data\n",
    "\n",
    "    def get_user_following(self, user_id, max_results=1000, max_pagination=1000):\n",
    "        params = { 'max_results':max_results, 'user.fields':'public_metrics,profile_image_url' }\n",
    "        data = []\n",
    "        next_token = True\n",
    "\n",
    "        i = 0\n",
    "        while next_token and i < max_pagination:\n",
    "            try:\n",
    "                res = requests.get(f'{self.PATH}/users/{user_id}/following', params=params, headers=self.headers)\n",
    "                \n",
    "                self.REQUEST_COUNT = (self.REQUEST_COUNT + 1) % self.REQUEST_MAX\n",
    "                if self.REQUEST_COUNT == 0:\n",
    "                  self.update_bearer_token()\n",
    "\n",
    "                if res.status_code != 200:\n",
    "                    print('Taking a nap...')\n",
    "                    time.sleep( 15*60  + 10) # Sleep 15 mins and 10 seconds\n",
    "                    self.REQUEST_COUNT = 0\n",
    "                    print('Waking up again!')\n",
    "\n",
    "                elif res.json().get('errors'):\n",
    "                    print('There was an error')\n",
    "                    print(res.json()['errors'])\n",
    "                    next_token = False\n",
    "\n",
    "                else:\n",
    "                    data += res.json().get('data', [])\n",
    "                    next_token = res.json().get('meta', {}).get('next_token')\n",
    "                    params['pagination_token'] = next_token\n",
    "                    i += 1\n",
    "            except Exception as e:\n",
    "                print('There was an error! Taking a nap...')\n",
    "                print(e)\n",
    "                time.sleep(60) # Sleep 1 min\n",
    "                print('Waking up again!')\n",
    "        return data"
   ]
  },
  {
   "cell_type": "code",
   "execution_count": 6,
   "metadata": {
    "id": "Z8_ZoTo9d4Bw"
   },
   "outputs": [],
   "source": [
    "twitter = TwitterAPI(POOL=TOKEN_POOL)"
   ]
  },
  {
   "cell_type": "markdown",
   "metadata": {
    "id": "1BVkxlcv28aC"
   },
   "source": [
    "##  Extraccion del primer nivel"
   ]
  },
  {
   "cell_type": "code",
   "execution_count": null,
   "metadata": {
    "id": "kkChgUMXd6LB"
   },
   "outputs": [
    {
     "name": "stdout",
     "output_type": "stream",
     "text": [
      "Taking a nap...\n",
      "Waking up again!\n",
      "Changing token to AAAAAAAAAAAAAAAAAAAAAHrHUQEAAAAAEuCpSGtduf0OzCGziFepoTneKfs%3DFSjYWNvOhr5R5Rakgky4IVQt0g011PILwSqJtpK5ZvRcJlkJqu...\n",
      "Changing token to AAAAAAAAAAAAAAAAAAAAANOPVgEAAAAAcmgH4HRq%2FyRg5485gFbcUqTso0Y%3DB2LKEzoL9HphAFn6jqwVRNIecLClzuPed4yYlcHBYETq8QqxJv...\n",
      "checkpoint saved on output\\data_0404_145729.pickle\n",
      "Changing token to AAAAAAAAAAAAAAAAAAAAADrgBQEAAAAA5CoiD%2F1y7eYo6keNRgsk9bvC3G0%3DsmVZEpdiiRqA1UZNOPUV1UFJut7Xxp1AkifiSi9CpNIUDbjNcq...\n",
      "Taking a nap...\n"
     ]
    }
   ],
   "source": [
    "# Nodos Iniciales\n",
    "starting_nodes = [2391563839,\n",
    " 1192537548641443840,\n",
    " 94529497,\n",
    " 1131926131559546881,\n",
    " 42274372,\n",
    " 105197405,\n",
    " 99324417,\n",
    " 193504277,\n",
    " 1679468156,\n",
    " 1305910250613202946]\n",
    "\n",
    "df = pd.DataFrame.from_dict([ translate(twitter.get_user(n)['data']) for n in starting_nodes]).set_index('id')\n",
    "df = next_level(df)#activa la búsqueda\n",
    "df['log_ratio'] = np.log10(df.followers / (df.following + 1)) # relacion entre seguidos y seguidores\n",
    "#aveces twitter no te da el numero correcto de seguidores o seguidos y coloca -1, y te da warning jeje por division entre 0\n",
    "\n",
    "save_checkpoint(df, 'first_level')#guardar porque dentro de la funcion next_level guarda por defecto cada 25 usuarios, \n",
    "                                #y el proceso puede terminar antes del numero 25, así se guardan los restantes\n",
    "                                #first_level contiene tooooodos los usuarios, los archivos anteriores son copias, tienen info redundante\n"
   ]
  },
  {
   "cell_type": "markdown",
   "metadata": {
    "id": "jT2fEZPy2_w0"
   },
   "source": [
    "## Primer Filtrado"
   ]
  },
  {
   "cell_type": "code",
   "execution_count": null,
   "metadata": {
    "colab": {
     "base_uri": "https://localhost:8080/"
    },
    "executionInfo": {
     "elapsed": 2535,
     "status": "ok",
     "timestamp": 1648324890820,
     "user": {
      "displayName": "Saúl Oviedo",
      "photoUrl": "https://lh3.googleusercontent.com/a/default-user=s64",
      "userId": "14010096713079703432"
     },
     "user_tz": 240
    },
    "id": "NsRNwHwId-RC",
    "outputId": "dc984c5e-ebce-467a-c378-94cb43ff3128"
   },
   "outputs": [
    {
     "name": "stdout",
     "output_type": "stream",
     "text": [
      "loading /content/drive/MyDrive/Colab Notebooks/mbu-graph/output_client/first_level_0326_044823.pickle ...\n",
      "checkpoint saved on /content/drive/MyDrive/Colab Notebooks/mbu-graph/output_client/filtered_first_level_0326_200128.pickle\n"
     ]
    }
   ],
   "source": [
    "df = get_last_checkpoint('first_level')\n",
    "df = df[df.following < 1e3].sort_values('following', ascending=False)\n",
    "df = filter_dataframe(df)\n",
    "save_checkpoint(df, 'filtered_first_level')"
   ]
  },
  {
   "cell_type": "markdown",
   "metadata": {
    "id": "0CUT0VRmOyrq"
   },
   "source": [
    "##  Extraccion del segundo nivel"
   ]
  },
  {
   "cell_type": "code",
   "execution_count": null,
   "metadata": {
    "id": "lKpNLW8XV2Rs"
   },
   "outputs": [],
   "source": [
    "df = get_last_checkpoint('filtered_first_level')\n",
    "df = next_level(df, last_level=True, max_pagination=15)"
   ]
  },
  {
   "cell_type": "code",
   "execution_count": 15,
   "metadata": {
    "colab": {
     "base_uri": "https://localhost:8080/",
     "height": 345
    },
    "executionInfo": {
     "elapsed": 848,
     "status": "error",
     "timestamp": 1648483518974,
     "user": {
      "displayName": "Saúl Oviedo",
      "photoUrl": "https://lh3.googleusercontent.com/a/default-user=s64",
      "userId": "14010096713079703432"
     },
     "user_tz": 240
    },
    "id": "-_TGTkhyW5oM",
    "outputId": "aa822edb-c205-455d-c95c-f9a3c74c6065"
   },
   "outputs": [
    {
     "ename": "KeyboardInterrupt",
     "evalue": "ignored",
     "output_type": "error",
     "traceback": [
      "\u001b[0;31m---------------------------------------------------------------------------\u001b[0m",
      "\u001b[0;31mKeyboardInterrupt\u001b[0m                         Traceback (most recent call last)",
      "\u001b[0;32m<ipython-input-15-033bb9f1415d>\u001b[0m in \u001b[0;36m<module>\u001b[0;34m()\u001b[0m\n\u001b[1;32m      1\u001b[0m \u001b[0mdf\u001b[0m \u001b[0;34m=\u001b[0m \u001b[0mget_last_checkpoint\u001b[0m\u001b[0;34m(\u001b[0m\u001b[0;34m'data'\u001b[0m\u001b[0;34m)\u001b[0m\u001b[0;34m\u001b[0m\u001b[0;34m\u001b[0m\u001b[0m\n\u001b[0;32m----> 2\u001b[0;31m \u001b[0mdf\u001b[0m \u001b[0;34m=\u001b[0m \u001b[0mnext_level\u001b[0m\u001b[0;34m(\u001b[0m\u001b[0mdf\u001b[0m\u001b[0;34m,\u001b[0m \u001b[0mlast_level\u001b[0m\u001b[0;34m=\u001b[0m\u001b[0;32mTrue\u001b[0m\u001b[0;34m,\u001b[0m \u001b[0mmax_pagination\u001b[0m\u001b[0;34m=\u001b[0m\u001b[0;36m15\u001b[0m\u001b[0;34m)\u001b[0m\u001b[0;34m\u001b[0m\u001b[0;34m\u001b[0m\u001b[0m\n\u001b[0m\u001b[1;32m      3\u001b[0m \u001b[0msave_checkpoint\u001b[0m\u001b[0;34m(\u001b[0m\u001b[0mdf\u001b[0m\u001b[0;34m,\u001b[0m \u001b[0;34m'second_level'\u001b[0m\u001b[0;34m)\u001b[0m\u001b[0;34m\u001b[0m\u001b[0;34m\u001b[0m\u001b[0m\n",
      "\u001b[0;32m<ipython-input-12-4eb7feb91d37>\u001b[0m in \u001b[0;36mnext_level\u001b[0;34m(df, mode, last_level, max_pagination)\u001b[0m\n\u001b[1;32m     46\u001b[0m \u001b[0;34m\u001b[0m\u001b[0m\n\u001b[1;32m     47\u001b[0m         \u001b[0;32mif\u001b[0m \u001b[0mmode\u001b[0m \u001b[0;34m==\u001b[0m \u001b[0;34m'following'\u001b[0m\u001b[0;34m:\u001b[0m\u001b[0;34m\u001b[0m\u001b[0;34m\u001b[0m\u001b[0m\n\u001b[0;32m---> 48\u001b[0;31m           \u001b[0mres\u001b[0m \u001b[0;34m=\u001b[0m \u001b[0mtwitter\u001b[0m\u001b[0;34m.\u001b[0m\u001b[0mget_user_following\u001b[0m\u001b[0;34m(\u001b[0m\u001b[0midx\u001b[0m\u001b[0;34m,\u001b[0m \u001b[0mmax_pagination\u001b[0m\u001b[0;34m=\u001b[0m\u001b[0mmax_pagination\u001b[0m\u001b[0;34m)\u001b[0m\u001b[0;34m\u001b[0m\u001b[0;34m\u001b[0m\u001b[0m\n\u001b[0m\u001b[1;32m     49\u001b[0m         \u001b[0;32melse\u001b[0m\u001b[0;34m:\u001b[0m\u001b[0;34m\u001b[0m\u001b[0;34m\u001b[0m\u001b[0m\n\u001b[1;32m     50\u001b[0m           \u001b[0mres\u001b[0m \u001b[0;34m=\u001b[0m \u001b[0mtwitter\u001b[0m\u001b[0;34m.\u001b[0m\u001b[0mget_user_followers\u001b[0m\u001b[0;34m(\u001b[0m\u001b[0midx\u001b[0m\u001b[0;34m,\u001b[0m \u001b[0mmax_pagination\u001b[0m\u001b[0;34m=\u001b[0m\u001b[0mmax_pagination\u001b[0m\u001b[0;34m)\u001b[0m\u001b[0;34m\u001b[0m\u001b[0;34m\u001b[0m\u001b[0m\n",
      "\u001b[0;32m<ipython-input-13-c56b27eb04f0>\u001b[0m in \u001b[0;36mget_user_following\u001b[0;34m(self, user_id, max_results, max_pagination)\u001b[0m\n\u001b[1;32m     75\u001b[0m                 \u001b[0;32mif\u001b[0m \u001b[0mres\u001b[0m\u001b[0;34m.\u001b[0m\u001b[0mstatus_code\u001b[0m \u001b[0;34m!=\u001b[0m \u001b[0;36m200\u001b[0m\u001b[0;34m:\u001b[0m\u001b[0;34m\u001b[0m\u001b[0;34m\u001b[0m\u001b[0m\n\u001b[1;32m     76\u001b[0m                     \u001b[0mprint\u001b[0m\u001b[0;34m(\u001b[0m\u001b[0;34m'Taking a nap...'\u001b[0m\u001b[0;34m)\u001b[0m\u001b[0;34m\u001b[0m\u001b[0;34m\u001b[0m\u001b[0m\n\u001b[0;32m---> 77\u001b[0;31m                     \u001b[0mtime\u001b[0m\u001b[0;34m.\u001b[0m\u001b[0msleep\u001b[0m\u001b[0;34m(\u001b[0m \u001b[0;36m15\u001b[0m\u001b[0;34m*\u001b[0m\u001b[0;36m60\u001b[0m  \u001b[0;34m+\u001b[0m \u001b[0;36m10\u001b[0m\u001b[0;34m)\u001b[0m \u001b[0;31m# Sleep 15 mins and 10 seconds\u001b[0m\u001b[0;34m\u001b[0m\u001b[0;34m\u001b[0m\u001b[0m\n\u001b[0m\u001b[1;32m     78\u001b[0m                     \u001b[0mself\u001b[0m\u001b[0;34m.\u001b[0m\u001b[0mREQUEST_COUNT\u001b[0m \u001b[0;34m=\u001b[0m \u001b[0;36m0\u001b[0m\u001b[0;34m\u001b[0m\u001b[0;34m\u001b[0m\u001b[0m\n\u001b[1;32m     79\u001b[0m                     \u001b[0mprint\u001b[0m\u001b[0;34m(\u001b[0m\u001b[0;34m'Waking up again!'\u001b[0m\u001b[0;34m)\u001b[0m\u001b[0;34m\u001b[0m\u001b[0;34m\u001b[0m\u001b[0m\n",
      "\u001b[0;31mKeyboardInterrupt\u001b[0m: "
     ]
    }
   ],
   "source": [
    "df = get_last_checkpoint('data')\n",
    "df = next_level(df, last_level=True, max_pagination=15)\n",
    "save_checkpoint(df, 'second_level')"
   ]
  },
  {
   "cell_type": "code",
   "execution_count": null,
   "metadata": {
    "id": "dKahbuXKWZpN"
   },
   "outputs": [],
   "source": []
  }
 ],
 "metadata": {
  "colab": {
   "authorship_tag": "ABX9TyOSLegNExEtpyVAkYne9tve",
   "collapsed_sections": [],
   "mount_file_id": "1F9zkBXE83isWJ_rinSeWQ2Whlm2YaB_M",
   "name": "data_extraction_client.ipynb",
   "provenance": []
  },
  "kernelspec": {
   "display_name": "Python 3 (ipykernel)",
   "language": "python",
   "name": "python3"
  },
  "language_info": {
   "codemirror_mode": {
    "name": "ipython",
    "version": 3
   },
   "file_extension": ".py",
   "mimetype": "text/x-python",
   "name": "python",
   "nbconvert_exporter": "python",
   "pygments_lexer": "ipython3",
   "version": "3.9.6"
  }
 },
 "nbformat": 4,
 "nbformat_minor": 1
}
